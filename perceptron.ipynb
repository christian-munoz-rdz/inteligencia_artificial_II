{
 "cells": [
  {
   "cell_type": "code",
   "execution_count": 4,
   "metadata": {},
   "outputs": [
    {
     "name": "stdout",
     "output_type": "stream",
     "text": [
      "Salidas predichas para OR: [1 0 0 1]\n"
     ]
    }
   ],
   "source": [
    "import numpy as np\n",
    "from sklearn.linear_model import Perceptron\n",
    "\n",
    "# Entradas para entrenamiento\n",
    "x = np.array([[0, 0], [0, 1], [1, 0], [1, 1]]).T\n",
    "\n",
    "# Salida esperada para puerta OR\n",
    "t = np.array([0, 1, 1, 1])\n",
    "\n",
    "# Inicialización y entrenamiento de perceptrón\n",
    "net = Perceptron(tol=1e-3, random_state=0)\n",
    "net.fit(x.T, t)\n",
    "\n",
    "# Entradas para verificar funcionalidad\n",
    "x2 = np.array([[1, 1], [0, 0], [0, 0], [1, 0]]).T\n",
    "y = net.predict(x2.T)\n",
    "\n",
    "print(\"Salidas predichas para OR:\", y)"
   ]
  }
 ],
 "metadata": {
  "kernelspec": {
   "display_name": "AI_Env",
   "language": "python",
   "name": "python3"
  },
  "language_info": {
   "codemirror_mode": {
    "name": "ipython",
    "version": 3
   },
   "file_extension": ".py",
   "mimetype": "text/x-python",
   "name": "python",
   "nbconvert_exporter": "python",
   "pygments_lexer": "ipython3",
   "version": "3.10.13"
  }
 },
 "nbformat": 4,
 "nbformat_minor": 2
}
