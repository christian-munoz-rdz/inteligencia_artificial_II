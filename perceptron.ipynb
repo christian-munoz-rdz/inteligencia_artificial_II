{
 "cells": [
  {
   "cell_type": "markdown",
   "metadata": {},
   "source": [
    "# Perceptrón de una compuerta OR\n",
    "\n",
    "Este código está modificado y adaptado a Python para implementar un modelo de aprendizaje automático utilizando un perceptrón, con el objetivo de simular la funcionalidad de una puerta lógica OR"
   ]
  },
  {
   "cell_type": "code",
   "execution_count": 2,
   "metadata": {},
   "outputs": [
    {
     "name": "stdout",
     "output_type": "stream",
     "text": [
      "Salidas predichas para OR: [1 0 0 1]\n"
     ]
    }
   ],
   "source": [
    "import numpy as np\n",
    "from sklearn.linear_model import Perceptron\n",
    "\n",
    "# Entradas para entrenamiento\n",
    "x = np.array([[0, 0], [0, 1], [1, 0], [1, 1]]).T\n",
    "\n",
    "# Salida esperada para puerta OR\n",
    "t = np.array([0, 1, 1, 1])\n",
    "\n",
    "# Inicialización y entrenamiento de perceptrón\n",
    "net = Perceptron(tol=1e-3, random_state=0)\n",
    "net.fit(x.T, t)\n",
    "\n",
    "# Entradas para verificar funcionalidad\n",
    "x2 = np.array([[1, 1], [0, 0], [0, 0], [1, 0]]).T\n",
    "y = net.predict(x2.T)\n",
    "\n",
    "print(\"Salidas predichas para OR:\", y)"
   ]
  }
 ],
 "metadata": {
  "kernelspec": {
   "display_name": "AI_Env",
   "language": "python",
   "name": "python3"
  },
  "language_info": {
   "codemirror_mode": {
    "name": "ipython",
    "version": 3
   },
   "file_extension": ".py",
   "mimetype": "text/x-python",
   "name": "python",
   "nbconvert_exporter": "python",
   "pygments_lexer": "ipython3",
   "version": "3.11.7"
  }
 },
 "nbformat": 4,
 "nbformat_minor": 2
}
